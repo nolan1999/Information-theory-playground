{
 "cells": [
  {
   "cell_type": "markdown",
   "metadata": {},
   "source": [
    "# Error-correcting codes for the binary symmetric channel"
   ]
  },
  {
   "cell_type": "markdown",
   "metadata": {},
   "source": [
    "In this notebook, I try out the Hamming code and test it for its bit error rate.\n",
    "Furthermore, I try to generate other encodings with the same rate of information and block length to see how the Hamming code compares to them."
   ]
  },
  {
   "cell_type": "code",
   "execution_count": 1,
   "metadata": {},
   "outputs": [],
   "source": [
    "import random"
   ]
  },
  {
   "cell_type": "markdown",
   "metadata": {},
   "source": [
    "In this first part, I define some help functions to get the calculations done."
   ]
  },
  {
   "cell_type": "markdown",
   "metadata": {},
   "source": [
    "### 1) Get all possible combinations of n bits, ordered by their binary value"
   ]
  },
  {
   "cell_type": "code",
   "execution_count": 2,
   "metadata": {},
   "outputs": [],
   "source": [
    "def get_possible_combinations (n):\n",
    "    if n==1:\n",
    "        # basic case\n",
    "        return (['0', '1'])\n",
    "    else:\n",
    "        # recursive step; \n",
    "        combinations = get_possible_combinations(n-1)\n",
    "        # for each combination of length n-1, take one with a 1 on front\n",
    "        # and one with a zero\n",
    "        return(['0' + combination for combination in combinations]\n",
    "               + ['1' + combination for combination in combinations])"
   ]
  },
  {
   "cell_type": "markdown",
   "metadata": {},
   "source": [
    "For example, the ordered possible combinations of 3 bits are:"
   ]
  },
  {
   "cell_type": "code",
   "execution_count": 3,
   "metadata": {},
   "outputs": [
    {
     "data": {
      "text/plain": [
       "['000', '001', '010', '011', '100', '101', '110', '111']"
      ]
     },
     "execution_count": 3,
     "metadata": {},
     "output_type": "execute_result"
    }
   ],
   "source": [
    "get_possible_combinations(3)"
   ]
  },
  {
   "cell_type": "markdown",
   "metadata": {},
   "source": [
    "Note that the index in the list of each element is its binary value."
   ]
  },
  {
   "cell_type": "markdown",
   "metadata": {},
   "source": [
    "### 2) Random binary encoding (with added bits): for each input gives a valid output"
   ]
  },
  {
   "cell_type": "markdown",
   "metadata": {},
   "source": [
    "An encoding is a mapping input-output for all possible inputs. </br>\n",
    "In its explicit form, it's simply a list of outputs (may not scale well). </br>\n",
    "Since the input is assumed to be complete (all possible combinations) and ordered (as above), having the encodings (redundant bits) is enough to know the function: the mapping is done through indexing from the binary number represented by the input.\n",
    "In this case, I only consider encodings for which the first bits remain the same as the input and some additional \"check bits\" (e.g. parity bits) are added."
   ]
  },
  {
   "cell_type": "code",
   "execution_count": 4,
   "metadata": {},
   "outputs": [],
   "source": [
    "def get_random_encoding (inputs, outputs):\n",
    "    return ([outputs[random.randrange(0,len(outputs))] for i in inputs])"
   ]
  },
  {
   "cell_type": "markdown",
   "metadata": {},
   "source": [
    "For example a random encoding of 3 possible inputs, with 4 possible outputs, returns a randomly selected output for each possible input."
   ]
  },
  {
   "cell_type": "code",
   "execution_count": 5,
   "metadata": {},
   "outputs": [
    {
     "data": {
      "text/plain": [
       "['01', '00', '11']"
      ]
     },
     "execution_count": 5,
     "metadata": {},
     "output_type": "execute_result"
    }
   ],
   "source": [
    "get_random_encoding([1,2,3], ['01', '00', '10', '11'])"
   ]
  },
  {
   "cell_type": "markdown",
   "metadata": {},
   "source": [
    "In its matrix form, the encoding would require less memory (less values to be stored), but more calculations to find the nearest neighbor (matrix multiplications instead of list lookups) and restriction to linear cases."
   ]
  },
  {
   "cell_type": "markdown",
   "metadata": {},
   "source": [
    "### 3) Finding the closest message to the received one (r)"
   ]
  },
  {
   "cell_type": "markdown",
   "metadata": {},
   "source": [
    "The encodings are all ordered in a list. </br>\n",
    "A message is considered the closest to a given one if the amount of bits of difference is minimal across all possibilities.</br>\n",
    "Because of the chosen implementation, if more such messages are possibile, the one with the leftmost bit of difference to the received message is chosen."
   ]
  },
  {
   "cell_type": "code",
   "execution_count": 6,
   "metadata": {},
   "outputs": [],
   "source": [
    "# find the valid message (= with valid encoding) closest to the inputted one\n",
    "def find_closest (r, encoding, block_length):\n",
    "    \n",
    "    # if the received message r is valid (the first <block_length> bits give an encoding equal\n",
    "    # to the last bits), the same encoding is returned\n",
    "    if encoding[int(r[:block_length],2)] == r[block_length:]:\n",
    "        return r\n",
    "    \n",
    "    # else, systematically look at all inputs;\n",
    "    # start by changing 1 single bit and seeing if the message is valid;\n",
    "    # when all possible messages with <n> changes are tested and invalid, start testing with <n+1> bits\n",
    "    \n",
    "    possibilities = [r]\n",
    "    # continue loop until valid neighbor found\n",
    "    while (True):\n",
    "        for possibility in possibilities:\n",
    "            \n",
    "            # systematically change 1 bit\n",
    "            for i in range(len(possibility)):\n",
    "                \n",
    "                # change bit i from an already unsuccessfully tested possibility\n",
    "                new_string = possibility[:i] + str(int(not bool(int(possibility[i])))) + (\n",
    "                            possibility[i+1:] if i!=(len(possibility)-1) else '')\n",
    "                    \n",
    "                # increase list from the right side, so that the last possibility added will be the last tested (FIFO)\n",
    "                possibilities.append(new_string)\n",
    "                index = int(new_string[:block_length], 2)\n",
    "                check = encoding[index]\n",
    "                \n",
    "                # test if valid input-output message\n",
    "                if (check==new_string[block_length:]):\n",
    "                    \n",
    "                    # if valid, return as closest valid message\n",
    "                    return new_string     "
   ]
  },
  {
   "cell_type": "markdown",
   "metadata": {},
   "source": [
    "Example of how the method works"
   ]
  },
  {
   "cell_type": "code",
   "execution_count": 7,
   "metadata": {},
   "outputs": [
    {
     "name": "stdout",
     "output_type": "stream",
     "text": [
      "0010\n"
     ]
    }
   ],
   "source": [
    "print(find_closest ('0110', ['10', '11', '11', '11'], 2))"
   ]
  },
  {
   "cell_type": "markdown",
   "metadata": {},
   "source": [
    "### 4) Methods for systematical mathematical evaluation of all cases"
   ]
  },
  {
   "cell_type": "markdown",
   "metadata": {},
   "source": [
    "The probability of a case of <nb_flips> flips with message length <message_len> and flipping probability for each bit <f>.\n",
    "Binary distribution."
   ]
  },
  {
   "cell_type": "code",
   "execution_count": 8,
   "metadata": {},
   "outputs": [],
   "source": [
    "def flipping_probability (message_len, f, nb_flips):\n",
    "    return ((1-f)**(message_len-nb_flips)) * (f**nb_flips)"
   ]
  },
  {
   "cell_type": "markdown",
   "metadata": {},
   "source": [
    "Get a list of all flipping probabilities, ordered from 0 flips to <message_len> flips"
   ]
  },
  {
   "cell_type": "code",
   "execution_count": 9,
   "metadata": {},
   "outputs": [],
   "source": [
    "def list_flipping_probabilities (message_len, f):\n",
    "    return [flipping_probability(message_len, f, nb_flips) for nb_flips in range(message_len+1)]"
   ]
  },
  {
   "cell_type": "markdown",
   "metadata": {},
   "source": [
    "Get all possible sublists of a list."
   ]
  },
  {
   "cell_type": "code",
   "execution_count": 10,
   "metadata": {},
   "outputs": [
    {
     "data": {
      "text/plain": [
       "[[1, 2, 3], [1, 2], [1, 3], [1], [2, 3], [2], [3], []]"
      ]
     },
     "execution_count": 10,
     "metadata": {},
     "output_type": "execute_result"
    }
   ],
   "source": [
    "def sublists (lst):\n",
    "    if len(lst)==0:\n",
    "        return [[]]\n",
    "    else:\n",
    "        return [[lst[0]] + sub for sub in sublists(lst[1:])] + [sub for sub in sublists(lst[1:])]\n",
    "    \n",
    "# example working\n",
    "sublists([1,2,3])"
   ]
  },
  {
   "cell_type": "markdown",
   "metadata": {},
   "source": [
    "### 5) Testing methods"
   ]
  },
  {
   "cell_type": "markdown",
   "metadata": {},
   "source": [
    "Count the number of different bits between two messages, considering the actual sensor message s (of length <block_len>) only."
   ]
  },
  {
   "cell_type": "code",
   "execution_count": 11,
   "metadata": {},
   "outputs": [],
   "source": [
    "def bit_errors (block_len, t, error_correcting):\n",
    "    n = 0\n",
    "    for i in range(block_len):\n",
    "        if error_correcting[i] != t[i]:\n",
    "            n+=1\n",
    "    return n"
   ]
  },
  {
   "cell_type": "markdown",
   "metadata": {},
   "source": [
    "Test a given encoding (in the form of a list) with probability of bit flip f. </br>\n",
    "Tests for all possible messages + encodings + noise vectors and weights according to probability of the combination: hence, the result should be exact up to approximations of the calculations.\n",
    "It makes use of the closest possibility method as defined above to pick the (error-corrected)-corresponding message, and compares it to the sent one."
   ]
  },
  {
   "cell_type": "code",
   "execution_count": 12,
   "metadata": {},
   "outputs": [],
   "source": [
    "def test_encoding (block_length, encoding, f):\n",
    "    \n",
    "    probabilities = list_flipping_probabilities (block_length + len(encoding[0]), f)\n",
    "    \n",
    "    # initialize error rates\n",
    "    block_error_rate = 0\n",
    "    bit_error_rate = 0\n",
    "    \n",
    "    # test for all flip_patterns (possible errors)\n",
    "    for flip_pattern in sublists(list(range(block_length+len(encoding[0])))):\n",
    "        \n",
    "        #initialize counter\n",
    "        n = 0\n",
    "        # initialize block error rates\n",
    "        pattern_block_error_rate = 0\n",
    "        pattern_bit_error_rate = 0\n",
    "        # initialize input to all 0s\n",
    "        s = '0'*block_length\n",
    "        \n",
    "        while (True):\n",
    "            n+=1\n",
    "            error = 0\n",
    "            # add encoding for actual input\n",
    "            redundancy = encoding[int(s,2)]\n",
    "            t = s + redundancy\n",
    "            # received message\n",
    "            r = ''\n",
    "            # flip bits in received message (from transmitted one) according to given pattern\n",
    "            for index in range(len(t)):\n",
    "                r = r + (str(int(not bool(int(t[index])))) if index in flip_pattern else t[index])\n",
    "                \n",
    "            # if r == t, correct decoding; else, look at closest message\n",
    "            if r != t:\n",
    "                error_correcting = find_closest (r, encoding, block_length)\n",
    "                # if closest message (error-corrected decoding different from the transmitted one), error\n",
    "                if (error_correcting != t):\n",
    "                    # update error rates\n",
    "                    pattern_block_error_rate += 1\n",
    "                    pattern_bit_error_rate += bit_errors(block_length, t, error_correcting)\n",
    "            \n",
    "            # increase input\n",
    "            s = '{0:b}'.format(int(s,2)+1)\n",
    "            diff = block_length - len(s)\n",
    "            \n",
    "            # finished possibilities for the actual cycle (pattern) if longer pattern\n",
    "            # (all 1's exceeded); hence, exit the loop\n",
    "            if (diff < 0):\n",
    "                break\n",
    "            # reset length (add required 0's in front that were eliminated by the int operations)\n",
    "            s = '0'*diff + s\n",
    "            \n",
    "        # update error rates to probability-adjusted pattern error rates\n",
    "        block_error_rate += probabilities[len(flip_pattern)] * pattern_block_error_rate\n",
    "        bit_error_rate += probabilities[len(flip_pattern)] * pattern_bit_error_rate / (block_length)\n",
    "        \n",
    "    # since tested for all possible inputs, to get the mean divide by the number of possible inputs\n",
    "    # (assumed to be equiprobable)\n",
    "    nb_possible_inputs = len(encoding)\n",
    "    block_error_rate /= nb_possible_inputs\n",
    "    bit_error_rate /= nb_possible_inputs\n",
    "        \n",
    "    return (block_error_rate, bit_error_rate)"
   ]
  },
  {
   "cell_type": "markdown",
   "metadata": {},
   "source": [
    "Can be used if the exact test encoding takes too long. </br>\n",
    "For all possible inputs, tests with some random generated noise vectors."
   ]
  },
  {
   "cell_type": "code",
   "execution_count": 13,
   "metadata": {},
   "outputs": [],
   "source": [
    "def test_encoding_approximate (block_length, encoding, f, cycles = 100):\n",
    "    n = 0\n",
    "    block_error_rate = 0\n",
    "    bit_error_rate = 0\n",
    "    \n",
    "    # test on complete input space for <cycles> cycles\n",
    "    for i in range(cycles):\n",
    "        s = '0'*block_length\n",
    "        \n",
    "        # test on all possible inputs\n",
    "        while (True):\n",
    "            error = 0\n",
    "            bit_error = 0\n",
    "            redundancy = encoding[int(s,2)]\n",
    "            t = s + redundancy\n",
    "            r = ''\n",
    "            \n",
    "            # for each bit, flip with probability f\n",
    "            for c in t:\n",
    "                r = r + str(int((not bool(int(c)) if random.random() < f else bool(int(c)))))\n",
    "                \n",
    "            # no checking if not changed\n",
    "            if t != r:\n",
    "                error_correcting = find_closest (r, encoding, block_length)\n",
    "                if (error_correcting != t):\n",
    "                    error = 1\n",
    "                    bit_error = bit_errors (block_length, t, error_correcting)\n",
    "            n+=1\n",
    "            block_error_rate = ((n-1)/n)*block_error_rate + error*(1/n)\n",
    "            bit_error_rate = ((n-1)/n)*bit_error_rate + bit_error*(1/n)/4\n",
    "            s = '{0:b}'.format(int(s,2)+1)\n",
    "            diff = block_length - len(s)\n",
    "            if (diff < 0):\n",
    "                break\n",
    "            s = '0'*diff + s\n",
    "    return (block_error_rate, bit_error_rate)"
   ]
  },
  {
   "cell_type": "markdown",
   "metadata": {},
   "source": [
    "Generate a random encoding and test it using the above method."
   ]
  },
  {
   "cell_type": "code",
   "execution_count": 14,
   "metadata": {},
   "outputs": [],
   "source": [
    "def test_random_encodings (inputs, outputs, block_length, added_length, f, nb_iterations, approximate=False):\n",
    "    \n",
    "    def funct(results, index):\n",
    "        best_bit_error_rate = 1\n",
    "        best_encoding = []\n",
    "        for i in range(nb_iterations):\n",
    "            encoding = get_random_encoding (inputs, outputs)\n",
    "            if not approximate:\n",
    "                block_error_rate, bit_error_rate = test_encoding (block_length, encoding, f)\n",
    "            else:\n",
    "                block_error_rate, bit_error_rate = test_encoding_approximate (block_length, encoding, f)\n",
    "            if bit_error_rate < best_bit_error_rate:\n",
    "                best_bit_error_rate = bit_error_rate\n",
    "                best_encoding = encoding\n",
    "        results[index] = (best_bit_error_rate, best_encoding)\n",
    "        return\n",
    "        \n",
    "    return funct"
   ]
  },
  {
   "cell_type": "markdown",
   "metadata": {},
   "source": [
    "Test several random encodings and print out the best one."
   ]
  },
  {
   "cell_type": "code",
   "execution_count": 15,
   "metadata": {},
   "outputs": [],
   "source": [
    "import numpy as np\n",
    "import multiprocessing\n",
    "\n",
    "def best_random_encoder (block_length, added_length, f, nb_encodings, approximate=False):\n",
    "    nb_processes = 3\n",
    "    inputs = get_possible_combinations (block_length)\n",
    "    outputs = get_possible_combinations (added_length)\n",
    "    nb_iterations = nb_encodings//nb_processes\n",
    "    testing_function = test_random_encodings (inputs, outputs, block_length, added_length, f, nb_iterations, approximate)\n",
    "    \n",
    "    processes = []\n",
    "    manager = multiprocessing.Manager()\n",
    "    results = manager.dict()\n",
    "    for i in range(nb_processes):\n",
    "        p = multiprocessing.Process(target=testing_function, args=(results,i))\n",
    "        processes.append(p)\n",
    "        p.start()\n",
    "    for p in processes:\n",
    "        p.join()\n",
    "        p.terminate()\n",
    "        \n",
    "    encodings = [results[data][1] for data in results]\n",
    "    error_rates = [results[data][0] for data in results]\n",
    "    index = np.argmin(error_rates)\n",
    "    print (results[index])"
   ]
  },
  {
   "cell_type": "markdown",
   "metadata": {},
   "source": [
    "## Test some random-generated encodings and print the best one (7-4 encoders)"
   ]
  },
  {
   "cell_type": "code",
   "execution_count": 16,
   "metadata": {},
   "outputs": [
    {
     "name": "stdout",
     "output_type": "stream",
     "text": [
      "(0.08080680000000003, ['011', '000', '101', '000', '001', '110', '101', '110', '111', '111', '010', '100', '100', '001', '011', '001'])\n"
     ]
    }
   ],
   "source": [
    "best_random_encoder (4, 3, 0.1, 100000)"
   ]
  },
  {
   "cell_type": "markdown",
   "metadata": {},
   "source": [
    "## Test Hamming encoder"
   ]
  },
  {
   "cell_type": "code",
   "execution_count": 17,
   "metadata": {},
   "outputs": [
    {
     "name": "stdout",
     "output_type": "stream",
     "text": [
      "0.1496944000000001 0.06688000000000002\n"
     ]
    }
   ],
   "source": [
    "hamming_encoding = [\n",
    "    '000',\n",
    "    '011',\n",
    "    '111',\n",
    "    '100',\n",
    "    '110',\n",
    "    '101',\n",
    "    '001',\n",
    "    '010',\n",
    "    '101',\n",
    "    '110',\n",
    "    '010',\n",
    "    '001',\n",
    "    '011',\n",
    "    '000',\n",
    "    '100',\n",
    "    '111',\n",
    "]\n",
    "block_rate, bit_rate = test_encoding (4, hamming_encoding, 0.1)\n",
    "print(block_rate, bit_rate)"
   ]
  },
  {
   "cell_type": "code",
   "execution_count": 18,
   "metadata": {},
   "outputs": [
    {
     "name": "stdout",
     "output_type": "stream",
     "text": [
      "(0.15249999999999983, 0.06828124999999988)\n"
     ]
    }
   ],
   "source": [
    "print (test_encoding_approximate(4, hamming_encoding, 0.1))"
   ]
  },
  {
   "cell_type": "markdown",
   "metadata": {},
   "source": [
    "Compare with estimated values for the Hamming code: 21f**2 = 0.21, 9f**2 = 0.09:\n",
    "even better than estimated!"
   ]
  },
  {
   "cell_type": "code",
   "execution_count": 19,
   "metadata": {},
   "outputs": [
    {
     "data": {
      "text/plain": [
       "0.006358933333333289"
      ]
     },
     "execution_count": 19,
     "metadata": {},
     "output_type": "execute_result"
    }
   ],
   "source": [
    "# the ratio of 3/7 (parity) holds:\n",
    "bit_rate*7/3 - block_rate"
   ]
  }
 ],
 "metadata": {
  "kernelspec": {
   "display_name": "Python 3",
   "language": "python",
   "name": "python3"
  },
  "language_info": {
   "codemirror_mode": {
    "name": "ipython",
    "version": 3
   },
   "file_extension": ".py",
   "mimetype": "text/x-python",
   "name": "python",
   "nbconvert_exporter": "python",
   "pygments_lexer": "ipython3",
   "version": "3.6.9"
  }
 },
 "nbformat": 4,
 "nbformat_minor": 4
}
